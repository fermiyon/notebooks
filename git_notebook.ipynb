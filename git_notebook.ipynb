{
 "cells": [
  {
   "cell_type": "markdown",
   "metadata": {},
   "source": [
    "# Git"
   ]
  },
  {
   "cell_type": "markdown",
   "metadata": {},
   "source": [
    "## First time git config"
   ]
  },
  {
   "cell_type": "code",
   "execution_count": null,
   "metadata": {},
   "outputs": [],
   "source": [
    "# sets up Git with your name\n",
    "git config --global user.name \"<Your-Full-Name>\"\n",
    "\n",
    "# sets up Git with your email\n",
    "git config --global user.email \"<your-email-address>\"\n",
    "\n",
    "# makes sure that Git output is colored\n",
    "git config --global color.ui auto\n",
    "\n",
    "# displays the original state in a conflict\n",
    "git config --global merge.conflictstyle diff3\n",
    "\n",
    "git config --list"
   ]
  },
  {
   "cell_type": "code",
   "execution_count": null,
   "metadata": {},
   "outputs": [],
   "source": [
    "# vs code configuration\n",
    "git config --global core.editor \"code --wait\""
   ]
  },
  {
   "cell_type": "markdown",
   "metadata": {},
   "source": [
    "## Creating git config"
   ]
  },
  {
   "cell_type": "code",
   "execution_count": null,
   "metadata": {},
   "outputs": [],
   "source": [
    "# init = initialize\n",
    "git init"
   ]
  },
  {
   "cell_type": "code",
   "execution_count": null,
   "metadata": {},
   "outputs": [],
   "source": [
    "git clone https://github.com/udacity/course-git-blog-project"
   ]
  },
  {
   "cell_type": "code",
   "execution_count": null,
   "metadata": {},
   "outputs": [],
   "source": [
    "git clone https://github.com/udacity/course-git-blog-project new-directory-name"
   ]
  },
  {
   "cell_type": "code",
   "execution_count": null,
   "metadata": {},
   "outputs": [],
   "source": [
    "git status"
   ]
  },
  {
   "cell_type": "code",
   "execution_count": null,
   "metadata": {},
   "outputs": [],
   "source": [
    "git log"
   ]
  },
  {
   "cell_type": "code",
   "execution_count": null,
   "metadata": {},
   "outputs": [],
   "source": [
    "# show only SHA(7) and message\n",
    "git log --oneline"
   ]
  },
  {
   "cell_type": "markdown",
   "metadata": {},
   "source": [
    "## Searching"
   ]
  },
  {
   "cell_type": "code",
   "execution_count": null,
   "metadata": {},
   "outputs": [],
   "source": [
    "# Searching commit\n",
    "git log --all --grep='Set article timestamp co'"
   ]
  },
  {
   "cell_type": "code",
   "execution_count": null,
   "metadata": {},
   "outputs": [],
   "source": [
    "# Searching SHA\n",
    "# -s for short information\n",
    "git show f9720a9 -s"
   ]
  },
  {
   "cell_type": "markdown",
   "metadata": {},
   "source": [
    "## Showing stats"
   ]
  },
  {
   "cell_type": "code",
   "execution_count": null,
   "metadata": {},
   "outputs": [],
   "source": [
    "# showing stats(how many files changed) for all commits\n",
    "git log --stat"
   ]
  },
  {
   "cell_type": "code",
   "execution_count": null,
   "metadata": {},
   "outputs": [],
   "source": [
    "# showing stats(how many files changed) for a particular commit\n",
    "git show --stat 6f04ddd"
   ]
  },
  {
   "cell_type": "markdown",
   "metadata": {},
   "source": [
    "## Displaying all changes in the commit"
   ]
  },
  {
   "cell_type": "code",
   "execution_count": null,
   "metadata": {},
   "outputs": [],
   "source": [
    "# Displaying all changes accross all comits.\n",
    "git log -p"
   ]
  },
  {
   "cell_type": "code",
   "execution_count": null,
   "metadata": {},
   "outputs": [],
   "source": [
    "# Log start from that commit\n",
    "git log -p fdf5493"
   ]
  },
  {
   "cell_type": "code",
   "execution_count": null,
   "metadata": {},
   "outputs": [],
   "source": []
  },
  {
   "cell_type": "markdown",
   "metadata": {},
   "source": [
    "displays the files that have been modified\n",
    "\n",
    "displays the location of the lines that have been added/removed\n",
    "\n",
    "displays the actual changes that have been made\n"
   ]
  },
  {
   "cell_type": "code",
   "execution_count": null,
   "metadata": {},
   "outputs": [],
   "source": [
    "# Displaying all changes in a particular commit.\n",
    "git show f9720a9"
   ]
  },
  {
   "cell_type": "markdown",
   "metadata": {},
   "source": [
    "## Displaying all changes and stats together of commits"
   ]
  },
  {
   "cell_type": "code",
   "execution_count": null,
   "metadata": {},
   "outputs": [],
   "source": [
    "git log -p --stat"
   ]
  },
  {
   "cell_type": "code",
   "execution_count": null,
   "metadata": {},
   "outputs": [],
   "source": [
    "# Displaying particular commit\n",
    "git show 4a60beb --stat -p"
   ]
  },
  {
   "cell_type": "markdown",
   "metadata": {},
   "source": [
    "## Commit"
   ]
  },
  {
   "cell_type": "code",
   "execution_count": null,
   "metadata": {},
   "outputs": [],
   "source": [
    "# adding files to the staging index\n",
    "git add ."
   ]
  },
  {
   "cell_type": "code",
   "execution_count": null,
   "metadata": {},
   "outputs": [],
   "source": [
    "# git add . nin tersi. Staging areayi siler\n",
    "git restore . --staged"
   ]
  },
  {
   "cell_type": "code",
   "execution_count": null,
   "metadata": {},
   "outputs": [],
   "source": [
    "git add app.css app.js file3.js"
   ]
  },
  {
   "cell_type": "code",
   "execution_count": null,
   "metadata": {},
   "outputs": [],
   "source": [
    "git rm --cached file1.js"
   ]
  },
  {
   "cell_type": "code",
   "execution_count": null,
   "metadata": {},
   "outputs": [],
   "source": [
    "git commit"
   ]
  },
  {
   "cell_type": "code",
   "execution_count": null,
   "metadata": {},
   "outputs": [],
   "source": [
    "git commit -m 'initial commit'"
   ]
  },
  {
   "cell_type": "markdown",
   "metadata": {},
   "source": [
    "## Tag"
   ]
  },
  {
   "cell_type": "code",
   "execution_count": null,
   "metadata": {},
   "outputs": [],
   "source": [
    "# list all tags\n",
    "git tag"
   ]
  },
  {
   "cell_type": "code",
   "execution_count": null,
   "metadata": {},
   "outputs": [],
   "source": [
    "# Add annottated tag\n",
    "git tag -a v1.0"
   ]
  },
  {
   "cell_type": "code",
   "execution_count": null,
   "metadata": {},
   "outputs": [],
   "source": [
    "# Delete tag also --delete\n",
    "git tag -d v1.0"
   ]
  },
  {
   "cell_type": "code",
   "execution_count": null,
   "metadata": {},
   "outputs": [],
   "source": [
    "# Show tags in the log (old version)\n",
    "git log --decorate"
   ]
  },
  {
   "cell_type": "code",
   "execution_count": null,
   "metadata": {},
   "outputs": [],
   "source": [
    "# Add tag to particular \n",
    "git tag -a v1.0 a4c92a2"
   ]
  },
  {
   "cell_type": "markdown",
   "metadata": {},
   "source": [
    "## Branch"
   ]
  },
  {
   "cell_type": "code",
   "execution_count": null,
   "metadata": {},
   "outputs": [],
   "source": [
    "git branch"
   ]
  },
  {
   "cell_type": "code",
   "execution_count": null,
   "metadata": {},
   "outputs": [],
   "source": [
    "git branch new-branch-name"
   ]
  },
  {
   "cell_type": "code",
   "execution_count": null,
   "metadata": {},
   "outputs": [],
   "source": [
    "git checkout another-branch-name"
   ]
  },
  {
   "cell_type": "code",
   "execution_count": null,
   "metadata": {},
   "outputs": [],
   "source": [
    "# delete branch\n",
    "git branch -d branch-name"
   ]
  },
  {
   "cell_type": "code",
   "execution_count": null,
   "metadata": {},
   "outputs": [],
   "source": [
    "# Force delete\n",
    "git branch -D branch-name"
   ]
  },
  {
   "cell_type": "code",
   "execution_count": null,
   "metadata": {},
   "outputs": [],
   "source": [
    "# Delete branch remotely too\n",
    "git push origin --delete branch-name"
   ]
  },
  {
   "cell_type": "code",
   "execution_count": null,
   "metadata": {},
   "outputs": [],
   "source": [
    "# Show particular branch one-line log.\n",
    "git log --oneline branch-name"
   ]
  },
  {
   "cell_type": "code",
   "execution_count": null,
   "metadata": {},
   "outputs": [],
   "source": [
    "# --decorate eski versiyonlar icin\n",
    "git log --oneline --decorate"
   ]
  },
  {
   "cell_type": "code",
   "execution_count": null,
   "metadata": {},
   "outputs": [],
   "source": [
    "# git diff command will show you the changes that have not yet been committed.\n",
    "git diff"
   ]
  },
  {
   "cell_type": "code",
   "execution_count": null,
   "metadata": {},
   "outputs": [],
   "source": [
    "# ⭐ The \"git checkout -b footer master\" command creates a new branch named \"footer\" based on the \"master\" branch and switches to that new branch in Git.\n",
    "\n",
    "git checkout -b footer master"
   ]
  },
  {
   "cell_type": "code",
   "execution_count": null,
   "metadata": {},
   "outputs": [],
   "source": [
    "# The \"git checkout -b new-branch-name\" command creates a new branch named \"new-branch-name\" and switches to that branch in Git.\n",
    "\n",
    "git checkout -b new-branch-name"
   ]
  },
  {
   "cell_type": "code",
   "execution_count": null,
   "metadata": {},
   "outputs": [],
   "source": [
    "# The git shortlog command provides a summary of the commit history grouped by author, displaying the author's name and the number of commits they have made. It does not provide the same output as git log --oneline\n",
    "git shortlog"
   ]
  },
  {
   "cell_type": "code",
   "execution_count": null,
   "metadata": {},
   "outputs": [],
   "source": [
    "#The git reflog command displays a log of reference updates in your repository, including commits, branch creations, and branch deletions. It provides a detailed history of reference changes, which can be useful for recovering lost commits or branches.\n",
    "git reflog"
   ]
  },
  {
   "cell_type": "code",
   "execution_count": null,
   "metadata": {},
   "outputs": [],
   "source": [
    "# Show all commits across branches\n",
    "git log --oneline --decorate --graph --all"
   ]
  },
  {
   "cell_type": "code",
   "execution_count": null,
   "metadata": {},
   "outputs": [],
   "source": [
    "# ⭐Show commits that are either in branch1 or branch2 but not both:\n",
    "git log --oneline branch1...branch2"
   ]
  },
  {
   "cell_type": "code",
   "execution_count": null,
   "metadata": {},
   "outputs": [],
   "source": [
    "git log --oneline master...footer"
   ]
  },
  {
   "cell_type": "code",
   "execution_count": null,
   "metadata": {},
   "outputs": [],
   "source": [
    "# ⭐Show commits that are in branch1 but not in branch2:\n",
    "# This command will display a concise list of the commits that are unique to branch2 but not in branch1, excluding merge commits.\n",
    "git log --oneline branch1..branch2"
   ]
  },
  {
   "cell_type": "code",
   "execution_count": null,
   "metadata": {},
   "outputs": [],
   "source": [
    "git "
   ]
  },
  {
   "cell_type": "markdown",
   "metadata": {},
   "source": [
    "## Merging"
   ]
  },
  {
   "cell_type": "code",
   "execution_count": null,
   "metadata": {},
   "outputs": [],
   "source": [
    "# undo merge\n",
    "# ^ (parrent commit demek)\n",
    "git reset --hard HEAD^"
   ]
  },
  {
   "cell_type": "code",
   "execution_count": null,
   "metadata": {},
   "outputs": [],
   "source": [
    "# (master) ile footer i merge et.\n",
    "git merge footer"
   ]
  },
  {
   "cell_type": "markdown",
   "metadata": {},
   "source": [
    "⭐Merge Conflict Indicators Explanation\n",
    "The editor has the following merge conflict indicators:\n",
    "\n",
    "<<<<<<< HEAD everything below this line (until the next indicator) shows you what's on the current branch\n",
    "\n",
    "||||||| merged common ancestors everything below this line (until the next indicator) shows you what the original lines were\n",
    "\n",
    "======= is the end of the original lines, everything that follows (until the next indicator) is what's on the branch that's being merged in\n",
    "\n",
    "'>>>>>>> heading-update is the ending indicator of what's on the branch that's being merged in (in this case, the heading-update branch)"
   ]
  },
  {
   "cell_type": "markdown",
   "metadata": {},
   "source": [
    "A merge conflict happens when the same line or lines have been changed on different branches that are being merged. Git will pause mid-merge telling you that there is a conflict and will tell you in what file or files the conflict occurred. To resolve the conflict in a file:\n",
    "\n",
    "locate and remove all lines with merge conflict indicators\n",
    "determine what to keep\n",
    "save the file(s)\n",
    "stage the file(s)\n",
    "make a commit\n",
    "Be careful that a file might have merge conflicts in multiple parts of the file, so make sure you check the entire file for merge conflict indicators - a quick search for <<< should help you locate all of them."
   ]
  },
  {
   "cell_type": "markdown",
   "metadata": {},
   "source": [
    "## Undoing changes"
   ]
  },
  {
   "cell_type": "code",
   "execution_count": null,
   "metadata": {},
   "outputs": [],
   "source": [
    "# Alter most-recent commit\n",
    "# Yapilan degisiklikler stage e alindiktan sonra yeni commit olusturmak yerine amend yapip son commite dahil edebiliriz.\n",
    "git commit --amend"
   ]
  },
  {
   "cell_type": "markdown",
   "metadata": {},
   "source": [
    "### Relaative Commit References"
   ]
  },
  {
   "cell_type": "markdown",
   "metadata": {},
   "source": [
    "Here's how we can refer to previous commits:\n",
    "\n",
    "the parent commit – the following indicate the parent commit of the current commit\n",
    "HEAD^\n",
    "\n",
    "HEAD~\n",
    "\n",
    "HEAD~1\n",
    "\n",
    "the grandparent commit – the following indicate the grandparent commit of the current commit\n",
    "HEAD^^\n",
    "\n",
    "HEAD~2\n",
    "\n",
    "the great-grandparent commit – the following indicate the great-grandparent commit of the current commit\n",
    "\n",
    "HEAD^^^\n",
    "\n",
    "HEAD~3"
   ]
  },
  {
   "cell_type": "code",
   "execution_count": null,
   "metadata": {},
   "outputs": [],
   "source": [
    "# git reset ten once backup yapilmasi iyi bir pratiktir.\n",
    "git branch backup"
   ]
  },
  {
   "cell_type": "code",
   "execution_count": null,
   "metadata": {},
   "outputs": [],
   "source": [
    "# ⭐ The \"git reset --hard HEAD\" command in Git resets the current branch to the last commit, discarding all changes and resetting both the working directory and the staging area.\n",
    "\n",
    "git reset --hard HEAD"
   ]
  },
  {
   "cell_type": "code",
   "execution_count": null,
   "metadata": {},
   "outputs": [],
   "source": [
    "## Mevcut commiti siler. HEAD i bir onceye tasir ve degisikligi working directory ye yazar\n",
    "git reset --mixed HEAD~1\n",
    "git reset HEAD~1"
   ]
  },
  {
   "cell_type": "code",
   "execution_count": null,
   "metadata": {},
   "outputs": [],
   "source": [
    "# Discard changes of the file in working directory compared to last commit\n",
    "git checkout -- <file>"
   ]
  },
  {
   "cell_type": "code",
   "execution_count": null,
   "metadata": {},
   "outputs": [],
   "source": [
    "# son commit degisikliklerini staging indexe tasir (working directory degil mixed working directorye tasir)\n",
    "git reset --soft HEAD~1"
   ]
  },
  {
   "cell_type": "code",
   "execution_count": null,
   "metadata": {},
   "outputs": [],
   "source": [
    "# bir onceki commite gecer, son commiti trashe gonderir yani siler\n",
    "git reset --hard HEAD~1"
   ]
  },
  {
   "cell_type": "code",
   "execution_count": null,
   "metadata": {},
   "outputs": [],
   "source": [
    "# reset den sonra origin farkli oldugundan forced push yapilir.\n",
    "\n",
    "git push -f origin main"
   ]
  },
  {
   "cell_type": "markdown",
   "metadata": {},
   "source": [
    "## Remote"
   ]
  },
  {
   "cell_type": "code",
   "execution_count": null,
   "metadata": {},
   "outputs": [],
   "source": [
    "# shows remote repositories if it has one.\n",
    "git remote"
   ]
  },
  {
   "cell_type": "code",
   "execution_count": null,
   "metadata": {},
   "outputs": [],
   "source": [
    "# full path of repository(or repositories)\n",
    "git remote -v"
   ]
  },
  {
   "cell_type": "code",
   "execution_count": null,
   "metadata": {},
   "outputs": [],
   "source": [
    "# Add remote repository\n",
    "git remote add origin https://github.com/richardkalehoff/RichardsFantasticProject.git"
   ]
  },
  {
   "cell_type": "code",
   "execution_count": null,
   "metadata": {},
   "outputs": [],
   "source": [
    "# The command \"git push -u origin master\" is used to push your local commits to the remote repository's master branch and set it as the default upstream branch for future pushes.\n",
    "\n",
    "git push -u origin master"
   ]
  },
  {
   "cell_type": "code",
   "execution_count": null,
   "metadata": {},
   "outputs": [],
   "source": [
    "# The command \"git pull origin master\" is used to fetch and merge the changes from the remote repository's master branch into your local repository.\n",
    "\n",
    "git pull origin master"
   ]
  },
  {
   "cell_type": "code",
   "execution_count": null,
   "metadata": {},
   "outputs": [],
   "source": [
    "# The command \"git fetch origin master\" is used to retrieve the commits from the remote repository's master branch and update the local tracking branch without merging the changes to the local branch.\n",
    "\n",
    "git fetch origin master"
   ]
  },
  {
   "cell_type": "code",
   "execution_count": null,
   "metadata": {},
   "outputs": [],
   "source": [
    "# The \"git clone\" command is used to create a local copy of a remote repository specified by the URL\n",
    "\n",
    "git clone URL.git"
   ]
  },
  {
   "cell_type": "code",
   "execution_count": null,
   "metadata": {},
   "outputs": [],
   "source": [
    "# The git shortlog command displays an alphabetical list of names and the commit messages associated with each name, showing the number of commits made by each developer.\n",
    "\n",
    "git shortlog"
   ]
  },
  {
   "cell_type": "code",
   "execution_count": null,
   "metadata": {},
   "outputs": [],
   "source": [
    "#  Lists the number of commits made by each contributor, sorted in descending order by commit count.\n",
    "\n",
    "git shortlog -s -n\n"
   ]
  },
  {
   "cell_type": "code",
   "execution_count": null,
   "metadata": {},
   "outputs": [],
   "source": [
    "# Displays the commit history made by the author named “Surma”.\n",
    "\n",
    "git log --author=Surma"
   ]
  },
  {
   "cell_type": "code",
   "execution_count": null,
   "metadata": {},
   "outputs": [],
   "source": [
    "#  Each commit made by the author\n",
    "\n",
    "git log --oneline --author=\"Paul Lewis\""
   ]
  },
  {
   "cell_type": "code",
   "execution_count": null,
   "metadata": {},
   "outputs": [],
   "source": [
    "# filter down to just the commits that reference the word \"bug\".\n",
    "git log --grep=bug\n",
    "git log --grep bug"
   ]
  },
  {
   "cell_type": "code",
   "execution_count": null,
   "metadata": {},
   "outputs": [],
   "source": [
    "# Which commit is about css bug\n",
    "git log --grep \"css bug\""
   ]
  },
  {
   "cell_type": "markdown",
   "metadata": {},
   "source": [
    "A pull request is a request for the source repository to pull in your commits and merge them with their project. To create a pull request, a couple of things need to happen:\n",
    "\n",
    "you must fork the source repository\n",
    "\n",
    "clone your fork down to your machine\n",
    "\n",
    "make some commits (ideally on a topic branch!)\n",
    "\n",
    "push the commits back to your fork\n",
    "\n",
    "create a new pull request and choose \n",
    "the branch that has your new commits\n"
   ]
  },
  {
   "cell_type": "code",
   "execution_count": null,
   "metadata": {},
   "outputs": [],
   "source": [
    "# Fork edilmis projeye(origin) kaynak proje(upstream) ekleme. \n",
    " \n",
    "git remote add upstream https://github.com/udacity/course-collaboration-travel-plans.git"
   ]
  },
  {
   "cell_type": "code",
   "execution_count": null,
   "metadata": {},
   "outputs": [],
   "source": [
    "git remote rename mine origin\n",
    "git remote rename source-repo upstream"
   ]
  },
  {
   "cell_type": "code",
   "execution_count": null,
   "metadata": {},
   "outputs": [],
   "source": [
    "# ⭐\n",
    "# Son 3 commiti birlestirip ayri bir commit olusturur ve son 3 commiti siler.\n",
    "\n",
    "# yapmadan once backup adli branch olusturulabilir.\n",
    "\n",
    "# acilan ekranda en basa r yazilir\n",
    "# sonra s yazilir(squash)\n",
    "# en ust commit ismi genel olarak degistirilir (r olan)\n",
    "git rebase -i HEAD~3"
   ]
  },
  {
   "cell_type": "code",
   "execution_count": null,
   "metadata": {},
   "outputs": [],
   "source": [
    "# rebase den sonra origin farkli oldugundan ve squash yapilmamis commitleri de icerdiginden forced push yapilir.\n",
    "\n",
    "git push -f origin include-selman-destinations"
   ]
  },
  {
   "cell_type": "markdown",
   "metadata": {},
   "source": [
    "# Readme"
   ]
  },
  {
   "cell_type": "markdown",
   "metadata": {},
   "source": [
    "There is no one way to write a README file, however there are some general conventions for what it should include:\n",
    "\n",
    "General description of the project or content of the repository.\n",
    "\n",
    "List of what software, firmware and hardware you may require.\n",
    "\n",
    "Installation instructions for the software and firmware.\n",
    "\n",
    "List of files included in the project.\n",
    "\n",
    "Copyright and licensing information.\n",
    "\n",
    "Acknowledgements and credits for any resources or blogs that helped you create the project.\n",
    "\n",
    "Known bugs\n",
    "\n",
    "Log of updates and revisions."
   ]
  }
 ],
 "metadata": {
  "language_info": {
   "name": "python"
  }
 },
 "nbformat": 4,
 "nbformat_minor": 2
}
