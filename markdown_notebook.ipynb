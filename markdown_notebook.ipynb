{
 "cells": [
  {
   "cell_type": "markdown",
   "metadata": {},
   "source": [
    "# Markdown"
   ]
  },
  {
   "cell_type": "markdown",
   "metadata": {},
   "source": [
    "Headings: Create headings using # (e.g., # Heading 1).\n",
    "\n",
    "Bold Text: Enclose text in double asterisks (**bold text**).\n",
    "\n",
    "Italic Text: Use single asterisks or underscores (*italicized text* or _italicized text_).\n",
    "\n",
    "Blockquotes: Begin a line with > for blockquotes.\n",
    "\n",
    "Ordered Lists: Create ordered lists with numbers (e.g., 1. First item).\n",
    "\n",
    "Unordered Lists: Use hyphens or asterisks for unordered lists (e.g., - Item 1).\n",
    "\n",
    "Code Blocks: Enclose code in backticks (e.g., `code`).\n",
    "\n",
    "Horizontal Rule: Add three hyphens, underscores, or asterisks (---, ___, or ***).\n",
    "\n",
    "Links: Create links using title (e.g., Google).\n",
    "\n",
    "Images: Embed images with !alt text.\n",
    "\n",
    "Tables: Construct tables using pipes and hyphens (e.g., | Header | Title |).\n",
    "\n",
    "Footnotes: Add footnotes using [^1^][1] and define them at the end.\n",
    "\n",
    "Heading IDs: Assign custom IDs to headings (e.g., ### My Great Heading {#custom-id}).\n",
    "\n",
    "Strikethrough: Cross out text using ~~strikethrough~~.\n",
    "\n",
    "Task Lists: Create task lists with checkboxes (e.g., - [x] Done).\n",
    "\n",
    "Emoji: Include emojis (e.g., :joy:).\n",
    "\n",
    "Highlight: Highlight text with ==highlighted words==.\n",
    "\n",
    "Subscript: Use H~2~O for subscript.\n",
    "\n",
    "Superscript: Represent superscripts as X^2^.\n"
   ]
  },
  {
   "cell_type": "markdown",
   "metadata": {},
   "source": [
    "## link \n",
    "```\n",
    "[Udacity's home page](https://www.udacity.com)\n",
    "```\n",
    "\n",
    "[Udacity's home page](https://www.udacity.com)"
   ]
  },
  {
   "cell_type": "markdown",
   "metadata": {},
   "source": [
    "## Italics"
   ]
  },
  {
   "cell_type": "markdown",
   "metadata": {},
   "source": [
    "```_gelato_```\n",
    "\n",
    "_gelato_\n",
    "\n",
    "```*gelato*```\n",
    "\n",
    "*gelato*"
   ]
  },
  {
   "cell_type": "markdown",
   "metadata": {},
   "source": [
    "## Bold"
   ]
  },
  {
   "cell_type": "markdown",
   "metadata": {},
   "source": [
    "```__bold__```\n",
    "\n",
    "__bold__\n",
    "\n",
    "```**bold**```\n",
    "\n",
    "**bold**"
   ]
  },
  {
   "cell_type": "markdown",
   "metadata": {},
   "source": [
    "## Magic Keywords"
   ]
  },
  {
   "cell_type": "code",
   "execution_count": 13,
   "metadata": {},
   "outputs": [
    {
     "name": "stdout",
     "output_type": "stream",
     "text": [
      "11 µs ± 468 ns per loop (mean ± std. dev. of 7 runs, 100,000 loops each)\n"
     ]
    }
   ],
   "source": [
    "def fibonacci(n):\n",
    "    if n == 0:\n",
    "        return 0\n",
    "    elif n == 1:\n",
    "        return 1\n",
    "    else:\n",
    "        return fibonacci(n - 1) + fibonacci(n - 2)\n",
    "\n",
    "%timeit fibonacci(10)"
   ]
  },
  {
   "cell_type": "code",
   "execution_count": 5,
   "metadata": {},
   "outputs": [
    {
     "name": "stdout",
     "output_type": "stream",
     "text": [
      "828 ns ± 46.8 ns per loop (mean ± std. dev. of 7 runs, 1,000,000 loops each)\n"
     ]
    }
   ],
   "source": [
    "def fibonacci_fast(n):\n",
    "    fibs = [0, 1]\n",
    "    for i in range(2, n):\n",
    "        next_fib = fibs[-1] + fibs[-2]\n",
    "        fibs.append(next_fib)\n",
    "    return fibs\n",
    "\n",
    "%timeit fibonacci_fast(10)"
   ]
  },
  {
   "cell_type": "code",
   "execution_count": 7,
   "metadata": {},
   "outputs": [
    {
     "name": "stdout",
     "output_type": "stream",
     "text": [
      "2.64 µs ± 189 ns per loop (mean ± std. dev. of 7 runs, 100,000 loops each)\n"
     ]
    }
   ],
   "source": [
    "import numpy as np\n",
    "def fibonacci(n):\n",
    "    fibs = np.zeros(n + 1, dtype=int)\n",
    "    fibs[1] = 1\n",
    "    for i in range(2, n + 1):\n",
    "        fibs[i] = fibs[i - 1] + fibs[i - 2]\n",
    "    return fibs\n",
    "\n",
    "%timeit fibonacci(10)"
   ]
  },
  {
   "cell_type": "code",
   "execution_count": 17,
   "metadata": {},
   "outputs": [
    {
     "name": "stdout",
     "output_type": "stream",
     "text": [
      "199 ns ± 4.91 ns per loop (mean ± std. dev. of 7 runs, 1,000,000 loops each)\n"
     ]
    }
   ],
   "source": [
    "def fibonacci_generator(n):\n",
    "    a, b = 0, 1\n",
    "    for _ in range(n):\n",
    "        yield a\n",
    "        a, b = b, a + b\n",
    "\n",
    "%timeit fibonacci_generator(10) "
   ]
  },
  {
   "cell_type": "code",
   "execution_count": null,
   "metadata": {},
   "outputs": [],
   "source": [
    "# To render figures directly in the notebook, you should use the inline backend with the command\n",
    "%matplotlib inline\n",
    "\n",
    "# for high resolution\n",
    "%config InlineBackend.figure_format = 'retina'"
   ]
  },
  {
   "cell_type": "code",
   "execution_count": 19,
   "metadata": {},
   "outputs": [
    {
     "name": "stdout",
     "output_type": "stream",
     "text": [
      "Automatic pdb calling has been turned OFF\n"
     ]
    }
   ],
   "source": [
    "# debugging\n",
    "%pdb"
   ]
  },
  {
   "cell_type": "markdown",
   "metadata": {},
   "source": [
    "## Export to html, pdf "
   ]
  },
  {
   "cell_type": "code",
   "execution_count": 21,
   "metadata": {},
   "outputs": [
    {
     "name": "stderr",
     "output_type": "stream",
     "text": [
      "[NbConvertApp] Converting notebook conda.ipynb to html\n",
      "[NbConvertApp] Writing 305545 bytes to conda.html\n"
     ]
    }
   ],
   "source": [
    "!jupyter nbconvert --to html conda.ipynb"
   ]
  },
  {
   "cell_type": "code",
   "execution_count": null,
   "metadata": {},
   "outputs": [],
   "source": [
    "# conda install conda-forge::pandoc\n",
    "!jupyter nbconvert --to pdf conda.ipynb"
   ]
  },
  {
   "cell_type": "code",
   "execution_count": null,
   "metadata": {},
   "outputs": [],
   "source": [
    "!jupyter nbconvert conda.ipynb --to slides --post serve"
   ]
  }
 ],
 "metadata": {
  "kernelspec": {
   "display_name": "udacity",
   "language": "python",
   "name": "python3"
  },
  "language_info": {
   "codemirror_mode": {
    "name": "ipython",
    "version": 3
   },
   "file_extension": ".py",
   "mimetype": "text/x-python",
   "name": "python",
   "nbconvert_exporter": "python",
   "pygments_lexer": "ipython3",
   "version": "3.11.7"
  }
 },
 "nbformat": 4,
 "nbformat_minor": 2
}
