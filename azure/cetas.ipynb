{
 "cells": [
  {
   "cell_type": "code",
   "execution_count": null,
   "metadata": {
    "vscode": {
     "languageId": "sql"
    }
   },
   "outputs": [],
   "source": [
    "-- Use CETAS to export select statement\n",
    "IF OBJECT_ID('dbo.fact_accident_dates') IS NOT NULL\n",
    "BEGIN\n",
    "  DROP EXTERNAL TABLE [dbo].[fact_accident_dates];\n",
    "END\n",
    "\n",
    "CREATE EXTERNAL TABLE dbo.fact_accident_dates\n",
    "WITH (\n",
    "    LOCATION    = 'fact_accident_dates',\n",
    "    DATA_SOURCE = [datalakefilesystem_datalakestorage123456_dfs_core_windows_net],\n",
    "\tFILE_FORMAT = [SynapseDelimitedTextFormat]\n",
    ")  \n",
    "AS\n",
    "SELECT sa.[ID] AS AccidentId, sa.[Start_Time] AS AccidentDate\n",
    "FROM [dbo].[staging] sa;\n",
    "GO\n",
    "\n",
    "-- Query the newly created CETAS external table\n",
    "SELECT TOP 100 * FROM dbo.fact_accident_dates\n",
    "GO"
   ]
  }
 ],
 "metadata": {
  "language_info": {
   "name": "python"
  }
 },
 "nbformat": 4,
 "nbformat_minor": 2
}
