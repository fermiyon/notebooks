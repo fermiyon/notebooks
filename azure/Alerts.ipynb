{
 "cells": [
  {
   "cell_type": "markdown",
   "metadata": {
    "editable": true
   },
   "source": [
    "## Create an Alert"
   ]
  },
  {
   "cell_type": "markdown",
   "metadata": {
    "editable": true
   },
   "source": [
    "In this exercise, we'll get some practice creating an alert. You can follow along either in Azure Cloud Shell or in this workspace."
   ]
  },
  {
   "cell_type": "markdown",
   "metadata": {
    "editable": true,
    "video": {
     "duration": 163,
     "id": "113987",
     "subtitles": [],
     "topher_id": "35ab349b-d1df-11ea-b458-0242ac110006",
     "transcodings": {
      "uri_480p_1000kbps_mp4": "https://video.udacity-data.com/topher/2020/July/5f21e48f_nd082-azure-devops-c2-l3-a12-exercise-creating-an-alert-quiz-solution/nd082-azure-devops-c2-l3-a12-exercise-creating-an-alert-quiz-solution_480p_1000kbps.mp4",
      "uri_480p_mp4": "https://video.udacity-data.com/topher/2020/July/5f21e48f_nd082-azure-devops-c2-l3-a12-exercise-creating-an-alert-quiz-solution/nd082-azure-devops-c2-l3-a12-exercise-creating-an-alert-quiz-solution_480p.mp4",
      "uri_720p_mp4": "https://video.udacity-data.com/topher/2020/July/5f21e48f_nd082-azure-devops-c2-l3-a12-exercise-creating-an-alert-quiz-solution/nd082-azure-devops-c2-l3-a12-exercise-creating-an-alert-quiz-solution_720p.mp4",
      "uri_hls": "https://video.udacity-data.com/topher/2020/July/5f21e48f_nd082-azure-devops-c2-l3-a12-exercise-creating-an-alert-quiz-solution/hls/playlist.m3u8"
     },
     "youtube_id": "hlliu49o6r4"
    }
   },
   "source": []
  },
  {
   "cell_type": "markdown",
   "metadata": {
    "editable": true
   },
   "source": [
    "### 1. Create `config.yml` and `check.sh`\n",
    "\n",
    "```bash\n",
    "touch config.yml\n",
    "touch check.sh\n",
    "```\n",
    "\n",
    "### 2. Write the test code for the alert\n",
    "\n",
    "Open up `check.sh` in the code editor and add the conditional code that checks for the existence of `config.yml`:\n",
    "\n",
    "```bash\n",
    "#!/usr/bin/env bash\n",
    "\n",
    "FILE=config.yml\n",
    "if test -f \"$FILE\"; then\n",
    "    echo \"$FILE exists\"\n",
    "else\n",
    "    echo \"$FILE does not exist\"\n",
    "    exit 2\n",
    "fi\n",
    "```\n",
    "\n",
    "\n",
    "\n",
    "### 3. Run the alert\n",
    "\n",
    "First, make the alert executable by entering:\n",
    "\n",
    "```bash\n",
    "chmod +x check.sh\n",
    "```\n",
    "\n",
    "Then, run the alert:\n",
    "\n",
    "```bash\n",
    "./check.sh\n",
    "```\n",
    "It should show that the file it is looking for exists:\n",
    "\n",
    "```bash\n",
    "root@e30f638281b9:/home/workspace# ./check.sh\n",
    "config.yml exists\n",
    "```\n",
    "\n",
    "Try moving or deleting `config.yml` and running the alert again. It should show that the file it is looking for does not exist.\n",
    "\n",
    "```bash\n",
    "\n",
    "root@56c5811bdbab:/home/workspace# ./alert.sh \n",
    "config.yml does not exist\n",
    "```"
   ]
  },
  {
   "cell_type": "markdown",
   "metadata": {
    "editable": true
   },
   "source": [
    "2.  Fix the alert by creating an empty `config.yml` file.\n",
    "\n",
    "```bash\n",
    "touch config.yml\n",
    "```\n",
    "\n",
    "The `touch` command creates an empty file."
   ]
  },
  {
   "cell_type": "markdown",
   "metadata": {
    "editable": true
   },
   "source": [
    "3.  Rerun the alert and verify that it works\n",
    "\n",
    "```bash\n",
    "./alert.sh\n",
    "```\n",
    "\n",
    "You should see something like this:\n",
    "\n",
    "```bash\n",
    "root@56c5811bdbab:/home/workspace# ./alert.sh \n",
    "config.yml exists\n",
    "```\n"
   ]
  },
  {
   "cell_type": "markdown",
   "metadata": {
    "editable": true
   },
   "source": []
  }
 ],
 "metadata": {
  "kernelspec": {
   "display_name": "Python 3",
   "language": "python",
   "name": "python3"
  },
  "language_info": {
   "codemirror_mode": {
    "name": "ipython",
    "version": 3
   },
   "file_extension": ".py",
   "mimetype": "text/x-python",
   "name": "python",
   "nbconvert_exporter": "python",
   "pygments_lexer": "ipython3",
   "version": "3.6.3"
  },
  "ulab_nb_type": "guided"
 },
 "nbformat": 4,
 "nbformat_minor": 4
}
