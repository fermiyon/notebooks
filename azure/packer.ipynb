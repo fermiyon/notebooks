{
 "cells": [
  {
   "cell_type": "code",
   "execution_count": null,
   "metadata": {},
   "outputs": [],
   "source": [
    "# Login for Azure CLI (if not logged in for Azure CLI)\n",
    "# !az login"
   ]
  },
  {
   "cell_type": "code",
   "execution_count": null,
   "metadata": {},
   "outputs": [],
   "source": [
    " # Show signed-in user\n",
    "!az ad signed-in-user show --query userPrincipalName -o tsv"
   ]
  },
  {
   "cell_type": "code",
   "execution_count": 4,
   "metadata": {},
   "outputs": [
    {
     "name": "stdout",
     "output_type": "stream",
     "text": [
      "Packer v1.10.2\n"
     ]
    }
   ],
   "source": [
    "!packer -v"
   ]
  },
  {
   "cell_type": "code",
   "execution_count": null,
   "metadata": {},
   "outputs": [],
   "source": [
    "# In order to run the command, SSH permission is needed.\n",
    "!packer build packer-server.json"
   ]
  },
  {
   "cell_type": "code",
   "execution_count": 6,
   "metadata": {},
   "outputs": [
    {
     "name": "stdout",
     "output_type": "stream",
     "text": [
      "HyperVGeneration    Location    Name         ProvisioningState    ResourceGroup\n",
      "------------------  ----------  -----------  -------------------  ---------------\n",
      "V1                  westeurope  PackerImage  Succeeded            AZUREDEVOPS\n"
     ]
    }
   ],
   "source": [
    "# List of packer images on Azure\n",
    "# !az image list\n",
    "!az image list --output table"
   ]
  },
  {
   "cell_type": "code",
   "execution_count": 4,
   "metadata": {},
   "outputs": [],
   "source": [
    "# Deleting the packer image on Azure (if needed)\n",
    "# !az image delete -g Azuredevops -n PackerImage"
   ]
  }
 ],
 "metadata": {
  "kernelspec": {
   "display_name": "Python 3",
   "language": "python",
   "name": "python3"
  },
  "language_info": {
   "codemirror_mode": {
    "name": "ipython",
    "version": 3
   },
   "file_extension": ".py",
   "mimetype": "text/x-python",
   "name": "python",
   "nbconvert_exporter": "python",
   "pygments_lexer": "ipython3",
   "version": "3.12.2"
  }
 },
 "nbformat": 4,
 "nbformat_minor": 2
}
